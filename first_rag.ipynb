{
 "cells": [
  {
   "cell_type": "code",
   "execution_count": 12,
   "id": "42c66a37",
   "metadata": {},
   "outputs": [],
   "source": [
    "import os\n",
    "from dotenv import load_dotenv"
   ]
  },
  {
   "cell_type": "markdown",
   "id": "d6ce8ff5",
   "metadata": {},
   "source": [
    "## OPENAI"
   ]
  },
  {
   "cell_type": "code",
   "execution_count": 13,
   "id": "c2c5ff0b",
   "metadata": {},
   "outputs": [],
   "source": [
    "from openai import OpenAI"
   ]
  },
  {
   "cell_type": "code",
   "execution_count": 14,
   "id": "ba0a516c",
   "metadata": {},
   "outputs": [],
   "source": [
    "#Get environment\n",
    "load_dotenv()\n",
    "\n",
    "OPENAI_API_KEY= os.getenv(\"OPENAI_API_KEY\")\n",
    "\n",
    "if not OPENAI_API_KEY:\n",
    "    print(\"ERROR: Error getting the OPENAI_API_KEY\")\n"
   ]
  },
  {
   "cell_type": "code",
   "execution_count": 15,
   "id": "8199370b",
   "metadata": {},
   "outputs": [],
   "source": [
    "openai_client = OpenAI(api_key=OPENAI_API_KEY)"
   ]
  },
  {
   "cell_type": "code",
   "execution_count": 16,
   "id": "1cfbafb9",
   "metadata": {},
   "outputs": [],
   "source": [
    "text_prompt = \"Give me pharsal verbs with the verb 'come'\"\n",
    "\n",
    "message=[\n",
    "    {\"role\":\"user\",\n",
    "     \"content\": text_prompt }\n",
    "]"
   ]
  },
  {
   "cell_type": "code",
   "execution_count": 18,
   "id": "b38f99cb",
   "metadata": {},
   "outputs": [],
   "source": [
    "response = openai_client.chat.completions.create(\n",
    "    model=\"gpt-4o-mini\",\n",
    "    messages=message,\n",
    "    temperature=1,\n",
    "    max_tokens=200\n",
    ")"
   ]
  },
  {
   "cell_type": "code",
   "execution_count": 29,
   "id": "f24f2432",
   "metadata": {},
   "outputs": [
    {
     "data": {
      "text/plain": [
       "ChatCompletion(id='chatcmpl-C0VvlKaVmUrdfZivwcWZMD8KdW8Q7', choices=[Choice(finish_reason='length', index=0, logprobs=None, message=ChatCompletionMessage(content='Sure! Here are some common phrasal verbs with \"come\":\\n\\n1. **Come across** - To encounter or find something by chance.\\n   - Example: I came across an old friend while shopping.\\n\\n2. **Come along** - To accompany or arrive together.\\n   - Example: Why don\\'t you come along with us to the concert?\\n\\n3. **Come apart** - To break into pieces or separate.\\n   - Example: The old book came apart as I flipped through the pages.\\n\\n4. **Come back** - To return to a place.\\n   - Example: I can\\'t wait to come back to this beautiful city.\\n\\n5. **Come down** - To descend or reduce in quantity or level.\\n   - Example: The prices of houses have come down significantly.\\n\\n6. **Come in** - To arrive or enter a place.\\n   - Example: Please come in and make yourself at home.\\n\\n7. **Come on** - To encourage someone to do something or to begin', refusal=None, role='assistant', annotations=[], audio=None, function_call=None, tool_calls=None))], created=1754238777, model='gpt-4o-mini-2024-07-18', object='chat.completion', service_tier='default', system_fingerprint='fp_34a54ae93c', usage=CompletionUsage(completion_tokens=200, prompt_tokens=19, total_tokens=219, completion_tokens_details=CompletionTokensDetails(accepted_prediction_tokens=0, audio_tokens=0, reasoning_tokens=0, rejected_prediction_tokens=0), prompt_tokens_details=PromptTokensDetails(audio_tokens=0, cached_tokens=0)))"
      ]
     },
     "execution_count": 29,
     "metadata": {},
     "output_type": "execute_result"
    }
   ],
   "source": [
    "response"
   ]
  },
  {
   "cell_type": "code",
   "execution_count": 25,
   "id": "5f5a3204",
   "metadata": {},
   "outputs": [
    {
     "data": {
      "text/plain": [
       "'Sure! Here are some common phrasal verbs with \"come\":\\n\\n1. **Come across** - To encounter or find something by chance.\\n   - Example: I came across an old friend while shopping.\\n\\n2. **Come along** - To accompany or arrive together.\\n   - Example: Why don\\'t you come along with us to the concert?\\n\\n3. **Come apart** - To break into pieces or separate.\\n   - Example: The old book came apart as I flipped through the pages.\\n\\n4. **Come back** - To return to a place.\\n   - Example: I can\\'t wait to come back to this beautiful city.\\n\\n5. **Come down** - To descend or reduce in quantity or level.\\n   - Example: The prices of houses have come down significantly.\\n\\n6. **Come in** - To arrive or enter a place.\\n   - Example: Please come in and make yourself at home.\\n\\n7. **Come on** - To encourage someone to do something or to begin'"
      ]
     },
     "execution_count": 25,
     "metadata": {},
     "output_type": "execute_result"
    }
   ],
   "source": [
    "response.choices[0].message.content"
   ]
  },
  {
   "cell_type": "code",
   "execution_count": 26,
   "id": "cca1b30d",
   "metadata": {},
   "outputs": [
    {
     "name": "stdout",
     "output_type": "stream",
     "text": [
      "Sure! Here are some common phrasal verbs with \"come\":\n",
      "\n",
      "1. **Come across** - To encounter or find something by chance.\n",
      "   - Example: I came across an old friend while shopping.\n",
      "\n",
      "2. **Come along** - To accompany or arrive together.\n",
      "   - Example: Why don't you come along with us to the concert?\n",
      "\n",
      "3. **Come apart** - To break into pieces or separate.\n",
      "   - Example: The old book came apart as I flipped through the pages.\n",
      "\n",
      "4. **Come back** - To return to a place.\n",
      "   - Example: I can't wait to come back to this beautiful city.\n",
      "\n",
      "5. **Come down** - To descend or reduce in quantity or level.\n",
      "   - Example: The prices of houses have come down significantly.\n",
      "\n",
      "6. **Come in** - To arrive or enter a place.\n",
      "   - Example: Please come in and make yourself at home.\n",
      "\n",
      "7. **Come on** - To encourage someone to do something or to begin\n"
     ]
    }
   ],
   "source": [
    "print(response.choices[0].message.content)"
   ]
  },
  {
   "cell_type": "markdown",
   "id": "82029ba4",
   "metadata": {},
   "source": [
    "## OLLAMA"
   ]
  },
  {
   "cell_type": "code",
   "execution_count": null,
   "id": "d228ab9a",
   "metadata": {},
   "outputs": [],
   "source": [
    "import ollama\n",
    "\n",
    "#Run Ollama model locally needed"
   ]
  },
  {
   "cell_type": "code",
   "execution_count": 31,
   "id": "56565eed",
   "metadata": {},
   "outputs": [],
   "source": [
    "ollama_model = \"qwen2.5:7b\""
   ]
  },
  {
   "cell_type": "code",
   "execution_count": 32,
   "id": "8a09c7c7",
   "metadata": {},
   "outputs": [],
   "source": [
    "response = ollama.chat(\n",
    "    model=ollama_model,\n",
    "    messages=message\n",
    ")"
   ]
  },
  {
   "cell_type": "code",
   "execution_count": 35,
   "id": "f2f86c91",
   "metadata": {},
   "outputs": [
    {
     "data": {
      "text/plain": [
       "'Certainly! Here are some phrasal verbs using the verb \"come\":\\n\\n1. Come across - To encounter or discover something unexpectedly.\\n   Example: I came across an old photo of you in my attic.\\n\\n2. Come about - To happen or to be caused.\\n   Example: How did this misunderstanding come about?\\n\\n3. Come after - To chase or follow someone or something.\\n   Example: The dog came after the squirrel when it ran into the yard.\\n\\n4. Come apart - To separate or break up into pieces.\\n   Example: The toy came apart easily when I tried to clean it.\\n\\n5. Come around - Can mean either to recover consciousness (after fainting) or to change one\\'s opinion or behavior.\\n   Example 1: She came around after a few minutes, looking much better.\\n   Example 2: After seeing the evidence, he finally came around to our point of view.\\n\\n6. Come away - To leave and go with someone.\\n   Example: We came away from the meeting feeling more optimistic about the project.\\n\\n7. Come back - To return or recall something.\\n   Example 1: The bell came back in style this year.\\n   Example 2: She couldn\\'t quite come back what he had said.\\n\\n8. Come down - Can mean to reduce, descend, or suffer from a disease.\\n   Example 1: Prices have come down significantly since last year.\\n   Example 2: He\\'s coming down with a cold and can\\'t make it to the party tonight.\\n\\n9. Come forward - To volunteer information or assistance.\\n   Example: A witness came forward with crucial evidence in the case.\\n\\n10. Come from - To originate or be derived from.\\n    Example: This idea comes from one of our newest team members.\\n\\nThese are just a few examples, and there are many more phrasal verbs using \"come\"!'"
      ]
     },
     "execution_count": 35,
     "metadata": {},
     "output_type": "execute_result"
    }
   ],
   "source": [
    "response.message.content"
   ]
  },
  {
   "cell_type": "code",
   "execution_count": 36,
   "id": "9a92a7e1",
   "metadata": {},
   "outputs": [
    {
     "name": "stdout",
     "output_type": "stream",
     "text": [
      "Certainly! Here are some phrasal verbs using the verb \"come\":\n",
      "\n",
      "1. Come across - To encounter or discover something unexpectedly.\n",
      "   Example: I came across an old photo of you in my attic.\n",
      "\n",
      "2. Come about - To happen or to be caused.\n",
      "   Example: How did this misunderstanding come about?\n",
      "\n",
      "3. Come after - To chase or follow someone or something.\n",
      "   Example: The dog came after the squirrel when it ran into the yard.\n",
      "\n",
      "4. Come apart - To separate or break up into pieces.\n",
      "   Example: The toy came apart easily when I tried to clean it.\n",
      "\n",
      "5. Come around - Can mean either to recover consciousness (after fainting) or to change one's opinion or behavior.\n",
      "   Example 1: She came around after a few minutes, looking much better.\n",
      "   Example 2: After seeing the evidence, he finally came around to our point of view.\n",
      "\n",
      "6. Come away - To leave and go with someone.\n",
      "   Example: We came away from the meeting feeling more optimistic about the project.\n",
      "\n",
      "7. Come back - To return or recall something.\n",
      "   Example 1: The bell came back in style this year.\n",
      "   Example 2: She couldn't quite come back what he had said.\n",
      "\n",
      "8. Come down - Can mean to reduce, descend, or suffer from a disease.\n",
      "   Example 1: Prices have come down significantly since last year.\n",
      "   Example 2: He's coming down with a cold and can't make it to the party tonight.\n",
      "\n",
      "9. Come forward - To volunteer information or assistance.\n",
      "   Example: A witness came forward with crucial evidence in the case.\n",
      "\n",
      "10. Come from - To originate or be derived from.\n",
      "    Example: This idea comes from one of our newest team members.\n",
      "\n",
      "These are just a few examples, and there are many more phrasal verbs using \"come\"!\n"
     ]
    }
   ],
   "source": [
    "print(response.message.content)"
   ]
  }
 ],
 "metadata": {
  "kernelspec": {
   "display_name": ".venv",
   "language": "python",
   "name": "python3"
  },
  "language_info": {
   "codemirror_mode": {
    "name": "ipython",
    "version": 3
   },
   "file_extension": ".py",
   "mimetype": "text/x-python",
   "name": "python",
   "nbconvert_exporter": "python",
   "pygments_lexer": "ipython3",
   "version": "3.12.3"
  }
 },
 "nbformat": 4,
 "nbformat_minor": 5
}
