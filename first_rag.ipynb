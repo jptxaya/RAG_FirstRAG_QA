{
 "cells": [
  {
   "cell_type": "code",
   "execution_count": 51,
   "id": "42c66a37",
   "metadata": {},
   "outputs": [],
   "source": [
    "import os\n",
    "from dotenv import load_dotenv"
   ]
  },
  {
   "cell_type": "markdown",
   "id": "d6ce8ff5",
   "metadata": {},
   "source": [
    "## OPENAI"
   ]
  },
  {
   "cell_type": "code",
   "execution_count": 52,
   "id": "c2c5ff0b",
   "metadata": {},
   "outputs": [],
   "source": [
    "from openai import OpenAI"
   ]
  },
  {
   "cell_type": "code",
   "execution_count": 53,
   "id": "ba0a516c",
   "metadata": {},
   "outputs": [],
   "source": [
    "#Get environment\n",
    "load_dotenv()\n",
    "\n",
    "OPENAI_API_KEY= os.getenv(\"OPENAI_API_KEY\")\n",
    "\n",
    "if not OPENAI_API_KEY:\n",
    "    print(\"ERROR: Error getting the OPENAI_API_KEY\")\n"
   ]
  },
  {
   "cell_type": "code",
   "execution_count": 54,
   "id": "8199370b",
   "metadata": {},
   "outputs": [],
   "source": [
    "openai_client = OpenAI(api_key=OPENAI_API_KEY)"
   ]
  },
  {
   "cell_type": "code",
   "execution_count": 55,
   "id": "1cfbafb9",
   "metadata": {},
   "outputs": [],
   "source": [
    "text_prompt = \"Give me pharsal verbs with the verb 'come'\"\n",
    "\n",
    "message=[\n",
    "    {\"role\":\"user\",\n",
    "     \"content\": text_prompt }\n",
    "]"
   ]
  },
  {
   "cell_type": "code",
   "execution_count": 56,
   "id": "b38f99cb",
   "metadata": {},
   "outputs": [],
   "source": [
    "response = openai_client.chat.completions.create(\n",
    "    model=\"gpt-4o-mini\",\n",
    "    messages=message,\n",
    "    temperature=1,\n",
    "    max_tokens=200\n",
    ")"
   ]
  },
  {
   "cell_type": "code",
   "execution_count": 57,
   "id": "f24f2432",
   "metadata": {},
   "outputs": [
    {
     "data": {
      "text/plain": [
       "ChatCompletion(id='chatcmpl-C0qpVNYDSMg3GyPFNsaD0YUEmHY0Y', choices=[Choice(finish_reason='length', index=0, logprobs=None, message=ChatCompletionMessage(content='Sure! Here are some common phrasal verbs that use the verb \"come\":\\n\\n1. **Come across** - to find or discover something by chance.\\n   - Example: I came across an old photo while cleaning.\\n\\n2. **Come along** - to accompany someone or to make progress.\\n   - Example: Can you come along with us to the concert? / How’s your project coming along?\\n\\n3. **Come apart** - to separate into pieces.\\n   - Example: The old book started to come apart at the seams.\\n\\n4. **Come back** - to return to a place.\\n   - Example: I’ll come back to visit you next summer.\\n\\n5. **Come down** - to decrease or to descend.\\n   - Example: The price of the car has come down recently.\\n\\n6. **Come forward** - to present oneself or offer information.\\n   - Example: Witnesses are encouraged to come forward with any information.\\n\\n7. **Come in** - to', refusal=None, role='assistant', annotations=[], audio=None, function_call=None, tool_calls=None))], created=1754319113, model='gpt-4o-mini-2024-07-18', object='chat.completion', service_tier='default', system_fingerprint='fp_34a54ae93c', usage=CompletionUsage(completion_tokens=200, prompt_tokens=19, total_tokens=219, completion_tokens_details=CompletionTokensDetails(accepted_prediction_tokens=0, audio_tokens=0, reasoning_tokens=0, rejected_prediction_tokens=0), prompt_tokens_details=PromptTokensDetails(audio_tokens=0, cached_tokens=0)))"
      ]
     },
     "execution_count": 57,
     "metadata": {},
     "output_type": "execute_result"
    }
   ],
   "source": [
    "response"
   ]
  },
  {
   "cell_type": "code",
   "execution_count": 58,
   "id": "5f5a3204",
   "metadata": {},
   "outputs": [
    {
     "data": {
      "text/plain": [
       "'Sure! Here are some common phrasal verbs that use the verb \"come\":\\n\\n1. **Come across** - to find or discover something by chance.\\n   - Example: I came across an old photo while cleaning.\\n\\n2. **Come along** - to accompany someone or to make progress.\\n   - Example: Can you come along with us to the concert? / How’s your project coming along?\\n\\n3. **Come apart** - to separate into pieces.\\n   - Example: The old book started to come apart at the seams.\\n\\n4. **Come back** - to return to a place.\\n   - Example: I’ll come back to visit you next summer.\\n\\n5. **Come down** - to decrease or to descend.\\n   - Example: The price of the car has come down recently.\\n\\n6. **Come forward** - to present oneself or offer information.\\n   - Example: Witnesses are encouraged to come forward with any information.\\n\\n7. **Come in** - to'"
      ]
     },
     "execution_count": 58,
     "metadata": {},
     "output_type": "execute_result"
    }
   ],
   "source": [
    "response.choices[0].message.content"
   ]
  },
  {
   "cell_type": "code",
   "execution_count": 59,
   "id": "cca1b30d",
   "metadata": {},
   "outputs": [
    {
     "name": "stdout",
     "output_type": "stream",
     "text": [
      "Sure! Here are some common phrasal verbs that use the verb \"come\":\n",
      "\n",
      "1. **Come across** - to find or discover something by chance.\n",
      "   - Example: I came across an old photo while cleaning.\n",
      "\n",
      "2. **Come along** - to accompany someone or to make progress.\n",
      "   - Example: Can you come along with us to the concert? / How’s your project coming along?\n",
      "\n",
      "3. **Come apart** - to separate into pieces.\n",
      "   - Example: The old book started to come apart at the seams.\n",
      "\n",
      "4. **Come back** - to return to a place.\n",
      "   - Example: I’ll come back to visit you next summer.\n",
      "\n",
      "5. **Come down** - to decrease or to descend.\n",
      "   - Example: The price of the car has come down recently.\n",
      "\n",
      "6. **Come forward** - to present oneself or offer information.\n",
      "   - Example: Witnesses are encouraged to come forward with any information.\n",
      "\n",
      "7. **Come in** - to\n"
     ]
    }
   ],
   "source": [
    "print(response.choices[0].message.content)"
   ]
  },
  {
   "cell_type": "markdown",
   "id": "82029ba4",
   "metadata": {},
   "source": [
    "## OLLAMA"
   ]
  },
  {
   "cell_type": "code",
   "execution_count": 60,
   "id": "d228ab9a",
   "metadata": {},
   "outputs": [],
   "source": [
    "import ollama\n",
    "\n",
    "#Run Ollama model locally needed"
   ]
  },
  {
   "cell_type": "code",
   "execution_count": 61,
   "id": "56565eed",
   "metadata": {},
   "outputs": [],
   "source": [
    "ollama_model = \"qwen2.5:7b\""
   ]
  },
  {
   "cell_type": "code",
   "execution_count": 62,
   "id": "8a09c7c7",
   "metadata": {},
   "outputs": [],
   "source": [
    "response = ollama.chat(\n",
    "    model=ollama_model,\n",
    "    messages=message\n",
    ")"
   ]
  },
  {
   "cell_type": "code",
   "execution_count": 63,
   "id": "f2f86c91",
   "metadata": {},
   "outputs": [
    {
     "data": {
      "text/plain": [
       "'Certainly! Here is a list of phrasal verbs using \"come\":\\n\\n1. **Come about** - To happen or occur (e.g., How did this meeting come about?)\\n2. **Come across** - To find by chance, to meet (e.g., I came across an old photograph the other day.)\\n3. **Come apart** - To separate into pieces (e.g., The toy came apart easily when we started to take it apart.)\\n4. **Come around** - To regain consciousness, change one\\'s opinion (e.g., She came around after a few minutes; I came around to your way of thinking eventually.)\\n5. **Come away** - To go away from a place or situation (e.g., We came away feeling very satisfied with the day’s events.)\\n6. **Come back** - To return, recall something (e.g., He came back after a few years; Can you come back to that point in your speech?)\\n7. **Come down** - To be given as a gift, descend from a higher place (e.g., She came down with a cold last week; The rain came down heavily during the storm.)\\n8. **Come down to** - To reduce to essentials or basics (e.g., It comes down to this: we need more information.)\\n9. **Come forward** - To volunteer, step forward (e.g., Someone must come forward and take responsibility for the incident.)\\n10. **Come from** - To originate from a place or source (e.g., She comes from a long line of doctors; This song comes from his heart.)\\n11. **Come on** - To start, continue (e.g., Come on, let’s go!; The movie came on at 7:00 p.m.)\\n12. **Come out** - To be revealed, issue publicly (e.g., The truth will come out soon; He came out as gay last year.)\\n13. **Come over** - To visit someone\\'s house (e.g., Can you come over for dinner tomorrow?)\\n14. **Come through** - To succeed or provide what is needed in a difficult situation (e.g., She came through with the money we needed; The support group helped her come through a tough time.)\\n15. **Come up** - To be brought into discussion, rise from underground (e.g., That issue will come up at the meeting; The plant came up through the cracks in the concrete.)\\n\\nThese phrasal verbs can vary widely in meaning and usage. Always check context for the specific meaning!'"
      ]
     },
     "execution_count": 63,
     "metadata": {},
     "output_type": "execute_result"
    }
   ],
   "source": [
    "response.message.content"
   ]
  },
  {
   "cell_type": "code",
   "execution_count": 64,
   "id": "9a92a7e1",
   "metadata": {},
   "outputs": [
    {
     "name": "stdout",
     "output_type": "stream",
     "text": [
      "Certainly! Here is a list of phrasal verbs using \"come\":\n",
      "\n",
      "1. **Come about** - To happen or occur (e.g., How did this meeting come about?)\n",
      "2. **Come across** - To find by chance, to meet (e.g., I came across an old photograph the other day.)\n",
      "3. **Come apart** - To separate into pieces (e.g., The toy came apart easily when we started to take it apart.)\n",
      "4. **Come around** - To regain consciousness, change one's opinion (e.g., She came around after a few minutes; I came around to your way of thinking eventually.)\n",
      "5. **Come away** - To go away from a place or situation (e.g., We came away feeling very satisfied with the day’s events.)\n",
      "6. **Come back** - To return, recall something (e.g., He came back after a few years; Can you come back to that point in your speech?)\n",
      "7. **Come down** - To be given as a gift, descend from a higher place (e.g., She came down with a cold last week; The rain came down heavily during the storm.)\n",
      "8. **Come down to** - To reduce to essentials or basics (e.g., It comes down to this: we need more information.)\n",
      "9. **Come forward** - To volunteer, step forward (e.g., Someone must come forward and take responsibility for the incident.)\n",
      "10. **Come from** - To originate from a place or source (e.g., She comes from a long line of doctors; This song comes from his heart.)\n",
      "11. **Come on** - To start, continue (e.g., Come on, let’s go!; The movie came on at 7:00 p.m.)\n",
      "12. **Come out** - To be revealed, issue publicly (e.g., The truth will come out soon; He came out as gay last year.)\n",
      "13. **Come over** - To visit someone's house (e.g., Can you come over for dinner tomorrow?)\n",
      "14. **Come through** - To succeed or provide what is needed in a difficult situation (e.g., She came through with the money we needed; The support group helped her come through a tough time.)\n",
      "15. **Come up** - To be brought into discussion, rise from underground (e.g., That issue will come up at the meeting; The plant came up through the cracks in the concrete.)\n",
      "\n",
      "These phrasal verbs can vary widely in meaning and usage. Always check context for the specific meaning!\n"
     ]
    }
   ],
   "source": [
    "print(response.message.content)"
   ]
  },
  {
   "cell_type": "markdown",
   "id": "3365d0cc",
   "metadata": {},
   "source": [
    "## Understanding Tokenizer"
   ]
  },
  {
   "cell_type": "code",
   "execution_count": 65,
   "id": "b3240814",
   "metadata": {},
   "outputs": [],
   "source": [
    "from transformers import AutoTokenizer"
   ]
  },
  {
   "cell_type": "code",
   "execution_count": 66,
   "id": "218cab11",
   "metadata": {},
   "outputs": [
    {
     "data": {
      "text/plain": [
       "\"<|im_start|>system\\nYou are Qwen, created by Alibaba Cloud. You are a helpful assistant.<|im_end|>\\n<|im_start|>user\\nGive me pharsal verbs with the verb 'come'<|im_end|>\\n\""
      ]
     },
     "execution_count": 66,
     "metadata": {},
     "output_type": "execute_result"
    }
   ],
   "source": [
    "ollama_model = \"Qwen/Qwen2.5-7B-Instruct\"\n",
    "\n",
    "tokenizer = AutoTokenizer.from_pretrained(ollama_model)\n",
    "\n",
    "tokenizer.apply_chat_template(message, tokenize=False)"
   ]
  },
  {
   "cell_type": "code",
   "execution_count": 67,
   "id": "f05af796",
   "metadata": {},
   "outputs": [
    {
     "data": {
      "text/plain": [
       "[151644,\n",
       " 8948,\n",
       " 198,\n",
       " 2610,\n",
       " 525,\n",
       " 1207,\n",
       " 16948,\n",
       " 11,\n",
       " 3465,\n",
       " 553,\n",
       " 54364,\n",
       " 14817,\n",
       " 13,\n",
       " 1446,\n",
       " 525,\n",
       " 264,\n",
       " 10950,\n",
       " 17847,\n",
       " 13,\n",
       " 151645,\n",
       " 198,\n",
       " 151644,\n",
       " 872,\n",
       " 198,\n",
       " 35127,\n",
       " 752,\n",
       " 1319,\n",
       " 1561,\n",
       " 278,\n",
       " 61846,\n",
       " 448,\n",
       " 279,\n",
       " 18607,\n",
       " 364,\n",
       " 2020,\n",
       " 6,\n",
       " 151645,\n",
       " 198]"
      ]
     },
     "execution_count": 67,
     "metadata": {},
     "output_type": "execute_result"
    }
   ],
   "source": [
    "tokenizer.apply_chat_template(message, tokenize=True)"
   ]
  },
  {
   "cell_type": "code",
   "execution_count": 68,
   "id": "501468e1",
   "metadata": {},
   "outputs": [
    {
     "data": {
      "text/plain": [
       "\"<|im_start|>system\\nYou are Qwen, created by Alibaba Cloud. You are a helpful assistant.<|im_end|>\\n<|im_start|>user\\nGive me pharsal verbs with the verb 'come'<|im_end|>\\n<|im_start|>assistant\\n\""
      ]
     },
     "execution_count": 68,
     "metadata": {},
     "output_type": "execute_result"
    }
   ],
   "source": [
    "tokenizer.apply_chat_template(message, tokenize=False, add_generation_prompt=True)"
   ]
  },
  {
   "cell_type": "markdown",
   "id": "a939faaf",
   "metadata": {},
   "source": [
    "## Conversation Structures"
   ]
  },
  {
   "cell_type": "markdown",
   "id": "beecda1f",
   "metadata": {},
   "source": [
    "Roles:\n",
    "\n",
    "- system - Set the over behaviour. Optional\n",
    "- user - The user input\n",
    "- assistant - The past messages for the model to remember the conversation history"
   ]
  },
  {
   "cell_type": "code",
   "execution_count": 69,
   "id": "c9fcb70e",
   "metadata": {},
   "outputs": [
    {
     "name": "stdout",
     "output_type": "stream",
     "text": [
      "Sure! Here are five sentences using \"come\" as a phrasal verb:\n",
      "\n",
      "1. Don't forget to come by my place later; I've got some cookies for you.\n",
      "2. Can you come up with an idea for our project?\n",
      "3. The package should come through tomorrow, so keep an eye on the doorstep.\n",
      "4. Come across that old photo album, will you? I want to see those childhood memories.\n",
      "5. Be sure to come along to the party; it'll be a lot of fun!\n"
     ]
    }
   ],
   "source": [
    "ollama_model = \"qwen2.5:7b\"\n",
    "\n",
    "messages = [\n",
    "    {\"role\":\"system\",\n",
    "     \"content\":\"You are a English Teacher called Tom, native from US\"},\n",
    "    {\"role\":\"user\",\n",
    "     \"content\":\"Give me 5 senteces using the verb come as a phrasal verb\"},\n",
    "]\n",
    "\n",
    "response = ollama.chat(\n",
    "    model=ollama_model,\n",
    "    messages=messages\n",
    ")\n",
    "\n",
    "response.message.content\n",
    "print(response.message.content)"
   ]
  },
  {
   "cell_type": "code",
   "execution_count": 70,
   "id": "87758ee1",
   "metadata": {},
   "outputs": [
    {
     "name": "stdout",
     "output_type": "stream",
     "text": [
      "[{'role': 'system', 'content': 'You are a English Teacher called Tom, native from US'}, {'role': 'user', 'content': 'Give me 5 senteces using the verb come as a phrasal verb'}, Message(role='assistant', content='Sure! Here are five sentences using \"come\" as a phrasal verb:\\n\\n1. Don\\'t forget to come by my place later; I\\'ve got some cookies for you.\\n2. Can you come up with an idea for our project?\\n3. The package should come through tomorrow, so keep an eye on the doorstep.\\n4. Come across that old photo album, will you? I want to see those childhood memories.\\n5. Be sure to come along to the party; it\\'ll be a lot of fun!', thinking=None, images=None, tool_calls=None), {'role': 'user', 'content': \"What about with 'go'\"}]\n",
      "Certainly! Here are five sentences using \"go\" as a phrasal verb:\n",
      "\n",
      "1. Go ahead and finish your homework before dinner.\n",
      "2. Can you go over the report with me tomorrow?\n",
      "3. The package should go out today, so it should arrive by Friday.\n",
      "4. Go through those files quickly; I need to see what we have.\n",
      "5. Be sure to go easy on yourself—it's okay not to be perfect all the time.\n"
     ]
    }
   ],
   "source": [
    "next_question = \"What about with 'go'\"\n",
    "\n",
    "messages.append(response.message)\n",
    "\n",
    "messages.append({\"role\":\"user\",\"content\":next_question})\n",
    "\n",
    "print(messages)\n",
    "\n",
    "response = ollama.chat(\n",
    "    model=ollama_model,\n",
    "    messages=messages\n",
    ")\n",
    "\n",
    "print(response.message.content)\n",
    "\n"
   ]
  },
  {
   "cell_type": "markdown",
   "id": "fedf268d",
   "metadata": {},
   "source": [
    "## Prompt Engineering"
   ]
  },
  {
   "cell_type": "markdown",
   "id": "6cfac487",
   "metadata": {},
   "source": [
    "### Zero shot"
   ]
  },
  {
   "cell_type": "code",
   "execution_count": 71,
   "id": "52187ea1",
   "metadata": {},
   "outputs": [
    {
     "name": "stdout",
     "output_type": "stream",
     "text": [
      "Not Urgent\n"
     ]
    }
   ],
   "source": [
    "#The model doesn't have any examples\n",
    "\n",
    "urgency_or_not_sentence = \"The car makes a strange sound when you engine on\"\n",
    "\n",
    "zero_prompt_content = f\"\"\"\n",
    "    Classify the following problems like Urgent o not.\n",
    "    Return only the label 'Urgent' or 'Not Urgent'\n",
    "\n",
    "    Message: \"{urgency_or_not_sentence}\"\n",
    "    Urgency:\"\"\"\n",
    "\n",
    "messages=[\n",
    "    {\"role\":\"user\",\n",
    "     \"content\":zero_prompt_content}]\n",
    "\n",
    "response = ollama.chat(\n",
    "    model=ollama_model,\n",
    "    messages=messages\n",
    ")\n",
    "\n",
    "print(response.message.content)"
   ]
  },
  {
   "cell_type": "markdown",
   "id": "e53fd794",
   "metadata": {},
   "source": [
    "### Few Shot"
   ]
  },
  {
   "cell_type": "code",
   "execution_count": 72,
   "id": "29c7a8c1",
   "metadata": {},
   "outputs": [
    {
     "name": "stdout",
     "output_type": "stream",
     "text": [
      "Urgent\n"
     ]
    }
   ],
   "source": [
    "#We are giving some examples to the model to know how to classify it\n",
    "\n",
    "urgency_or_not_sentence = \"The car makes a strange sound when you engine on\"\n",
    "\n",
    "examples_problems = [\n",
    "    (\"Sounds on engine\",\"Urgent\"),\n",
    "    (\"Malfunctioning media device on car\",\"Not Urgent\"),\n",
    "    (\"Brakes doesn't work\",\"Urgent\"),\n",
    "    (\"Tires sensor malfuctioning\",\"Not Urgent\")\n",
    "]\n",
    "\n",
    "zero_prompt_content = f\"\"\"\n",
    "    Classify the following problems like Urgent o not.\n",
    "    Return only the label 'Urgent' or 'Not Urgent'\n",
    "\n",
    "    Examples:\n",
    "    {examples_problems}\n",
    "\n",
    "\n",
    "    Message: \"{urgency_or_not_sentence}\"\n",
    "    Urgency:\"\"\"\n",
    "\n",
    "messages=[\n",
    "    {\"role\":\"user\",\n",
    "     \"content\":zero_prompt_content}]\n",
    "\n",
    "response = ollama.chat(\n",
    "    model=ollama_model,\n",
    "    messages=messages\n",
    ")\n",
    "\n",
    "print(response.message.content)"
   ]
  },
  {
   "cell_type": "markdown",
   "id": "678d2098",
   "metadata": {},
   "source": [
    "### Chain of Thought"
   ]
  },
  {
   "cell_type": "code",
   "execution_count": 73,
   "id": "9cc94553",
   "metadata": {},
   "outputs": [
    {
     "name": "stdout",
     "output_type": "stream",
     "text": [
      "Certainly! To provide you with an accurate route from Bilbao to Benavente by bicycle, I will outline a potential route and calculate the approximate distance. Please note that specific elevation data may vary based on the exact path chosen.\n",
      "\n",
      "### Route Overview:\n",
      "1. **Bilbao (Biscay) to Vitoria-Gasteiz (Álava):**\n",
      "   - Distance: Approximately 70-80 km\n",
      "2. **Vitoria-Gasteiz to Burgos:**\n",
      "   - Distance: Approximately 90 km\n",
      "3. **Burgos to Benavente (Zamora):**\n",
      "   - Distance: Approximately 120 km\n",
      "\n",
      "### Total Distance:\n",
      "- Bilbao to Vitoria-Gasteiz: ~75 km\n",
      "- Vitoria-Gasteiz to Burgos: ~90 km\n",
      "- Burgos to Benavente: ~120 km\n",
      "- **Total Distance:** ~385 km\n",
      "\n",
      "### Elevation Profile (Accumulated Level):\n",
      "1. **Bilbao to Vitoria-Gasteiz (Álava):**\n",
      "   - This section is relatively flat, with some minor hills.\n",
      "   - Accumulated elevation gain: Around 200-300 meters\n",
      "2. **Vitoria-Gasteiz to Burgos:**\n",
      "   - Some rolling hills as you head north.\n",
      "   - Accumulated elevation gain: About 450-600 meters\n",
      "3. **Burgos to Benavente (Zamora):**\n",
      "   - This section includes some more significant climbs, particularly around the Sierra de la Demanda and the region of Tierra de Fueyo.\n",
      "   - Accumulated elevation gain: Around 800-1000 meters\n",
      "\n",
      "### Total Elevation Gain:\n",
      "- **Accumulated Level:** Approximately 1450-1900 meters\n",
      "\n",
      "### Detailed Route Suggestion:\n",
      "1. **Bilbao to Vitoria-Gasteiz (Álava):**\n",
      "   - Follow the N-634 towards Vitoria-Gasteiz for about 70 km.\n",
      "2. **Vitoria-Gasteiz to Burgos:**\n",
      "   - Head north on the A-12 and then onto the N-122, which will take you through rolling hills and into Burgos.\n",
      "3. **Burgos to Benavente (Zamora):**\n",
      "   - Continue north from Burgos, passing through smaller towns like Sahagún and reaching Benavente.\n",
      "\n",
      "### Tips:\n",
      "- Plan for rest days if the route feels challenging.\n",
      "- Check local weather conditions before starting your journey.\n",
      "- Consider carrying extra water and snacks due to the longer distances between towns.\n",
      "\n",
      "This route should give you a good mix of flat terrain and some climbs, making it an interesting and enjoyable ride. Safe travels!\n"
     ]
    }
   ],
   "source": [
    "#To require the step by step reasoning\n",
    "\n",
    "\n",
    "prompt_content=f\"\"\"\n",
    "    Give the best route to ride from Bilbao(Basque Country,Spain) to Benavente(Zamora, Spain) with my bike, give me the total Kms and the accumulated level.\n",
    "\"\"\"\n",
    "\n",
    "messages=[\n",
    "    {\"role\":\"user\",\n",
    "     \"content\":prompt_content}]\n",
    "\n",
    "response = ollama.chat(\n",
    "    model=ollama_model,\n",
    "    messages=messages\n",
    ")\n",
    "\n",
    "print(response.message.content)"
   ]
  },
  {
   "cell_type": "code",
   "execution_count": 74,
   "id": "79fe5970",
   "metadata": {},
   "outputs": [
    {
     "name": "stdout",
     "output_type": "stream",
     "text": [
      "Sure! To provide you with a detailed route from Bilbao to Benavente in Spain, we'll break down the process into steps:\n",
      "\n",
      "### Step 1: Determine the General Route\n",
      "\n",
      "The general direction will be moving eastward from Bilbao towards Benavente.\n",
      "\n",
      "### Step 2: Use Online Maps and Bike Routing Tools\n",
      "\n",
      "We can use platforms like Google Maps or specific bike routing tools such as Strava or Komoot to get a precise route. For this example, I'll use Google Maps to demonstrate the process:\n",
      "\n",
      "1. **Start Point**: Bilbao\n",
      "2. **End Point**: Benavente\n",
      "\n",
      "### Step 3: Plot the Route on Google Maps\n",
      "\n",
      "Using Google Maps:\n",
      "- Search for \"Bilbao\" as your starting point.\n",
      "- Search for \"Benavente\" as your destination.\n",
      "- Click on \"Directions\" and then select \"Bike\" under the travel mode options.\n",
      "\n",
      "This will give you a bike-friendly route between Bilbao and Benavente. According to Google Maps, the direct route is approximately 247 kilometers (153 miles) long.\n",
      "\n",
      "### Step 4: Verify with Specific Bike Routing Tools\n",
      "\n",
      "For more detailed information, we can use specific tools like Komoot or Strava:\n",
      "\n",
      "- **Komoot**: After plotting the route on Komoot, it confirms a bike-friendly distance of about 260 km (161 mi).\n",
      "  \n",
      "- **Strava**: Strava also shows a similar distance around 247 km (153 mi).\n",
      "\n",
      "### Step 5: Calculate Accumulated Elevation\n",
      "\n",
      "The accumulated elevation will depend on the specific route chosen, but we can estimate it using an average.\n",
      "\n",
      "- Google Maps provides an \"Elevation\" feature which gives you the total rise and fall along your route.\n",
      "- For this particular route, a common estimate for such a long ride through hilly terrain is around 2,500 meters (8,200 feet) of elevation gain. However, exact figures can vary.\n",
      "\n",
      "### Step 6: Summarize the Route\n",
      "\n",
      "**Total Distance**: Approximately 247 to 260 kilometers (153 to 161 miles)\n",
      "\n",
      "**Accumulated Elevation**: Estimated around 2,500 meters (8,200 feet) of elevation gain.\n",
      "\n",
      "### Final Route Suggestion\n",
      "\n",
      "To get the exact route with detailed turns and landmarks:\n",
      "- Use Google Maps or a similar tool.\n",
      "- Choose \"Bike\" as your travel mode.\n",
      "- Follow the suggested route closely.\n",
      "\n",
      "This will give you a more precise and accurate route for your bike ride from Bilbao to Benavente, along with all the relevant details such as distance and elevation.\n"
     ]
    }
   ],
   "source": [
    "#Now, enforcing to do step by stepr\n",
    "prompt_content=f\"\"\"\n",
    "    Give the best route to ride from Bilbao(Basque Country,Spain) to Benavente(Zamora, Spain) with my bike, give me the total Kms and the accumulated level.\n",
    "    Let's think step by step. Show your work clearly.\n",
    "\"\"\"\n",
    "\n",
    "messages=[\n",
    "    {\"role\":\"user\",\n",
    "     \"content\":prompt_content}]\n",
    "\n",
    "response = ollama.chat(\n",
    "    model=ollama_model,\n",
    "    messages=messages\n",
    ")\n",
    "\n",
    "print(response.message.content)"
   ]
  },
  {
   "cell_type": "markdown",
   "id": "1d6f5d86",
   "metadata": {},
   "source": [
    "### Structured JSON Output and Validation"
   ]
  },
  {
   "cell_type": "code",
   "execution_count": 75,
   "id": "7b302113",
   "metadata": {},
   "outputs": [
    {
     "data": {
      "text/plain": [
       "'{\\n  \"category\": \"Sport\",\\n  \"reason\": \"The title mentions Alonso, who is a well-known racing driver, and refers to a \\'result,\\' which is typically associated with sporting achievements.\"\\n}'"
      ]
     },
     "execution_count": 75,
     "metadata": {},
     "output_type": "execute_result"
    }
   ],
   "source": [
    "#Get the output in a JSON format\n",
    "from typing import Literal\n",
    "import json\n",
    "\n",
    "allowed_categories = Literal[\"Sport\",\"Technology\",\"Movies\"]\n",
    "\n",
    "title_to_classify = \"Alonso got an extraordinary result\"\n",
    "\n",
    "prompt_content=f\"\"\"\n",
    "    Classify the title in correct category.\n",
    "    Categories are {allowed_categories.__args__}\n",
    "    Result must be in JSON Format where keys 'category' and 'reason'.\n",
    "\n",
    "    Title:{title_to_classify}\n",
    "\"\"\"\n",
    "\n",
    "\n",
    "messages=[\n",
    "    {\"role\":\"user\",\n",
    "     \"content\":prompt_content}]\n",
    "\n",
    "response = ollama.chat(\n",
    "    model=ollama_model,\n",
    "    messages=messages,\n",
    "    format='json'\n",
    ")\n",
    "\n",
    "response.message.content"
   ]
  },
  {
   "cell_type": "code",
   "execution_count": 76,
   "id": "bea8aae8",
   "metadata": {},
   "outputs": [
    {
     "data": {
      "text/plain": [
       "{'category': 'Sport',\n",
       " 'reason': \"The title mentions Alonso, who is a well-known racing driver, and refers to a 'result,' which is typically associated with sporting achievements.\"}"
      ]
     },
     "execution_count": 76,
     "metadata": {},
     "output_type": "execute_result"
    }
   ],
   "source": [
    "##Convert the response on JSON format\n",
    "parsed_json = json.loads(response.message.content)\n",
    "parsed_json"
   ]
  },
  {
   "cell_type": "code",
   "execution_count": 77,
   "id": "3dea756f",
   "metadata": {},
   "outputs": [
    {
     "name": "stdout",
     "output_type": "stream",
     "text": [
      "Validation correct\n"
     ]
    }
   ],
   "source": [
    "#Now, validate the correct format of Json\n",
    "#Using pydantic\n",
    "\n",
    "from pydantic import BaseModel,Field,ValidationError\n",
    "\n",
    "class SimpleValidation(BaseModel):\n",
    "    category: str = Field(description=\"The classifation topic\")\n",
    "    reason: str = Field(description=\"Short reason for the topic choice.\")\n",
    "\n",
    "try:\n",
    "    #Validate JSON data\n",
    "    validate_jon = SimpleValidation.model_validate(parsed_json)\n",
    "    print(\"Validation correct\")\n",
    "except ValidationError as e:\n",
    "    print(\"Validation error:{e} \")\n",
    "\n",
    "\n",
    "\n"
   ]
  },
  {
   "cell_type": "code",
   "execution_count": 78,
   "id": "b9f090a8",
   "metadata": {},
   "outputs": [
    {
     "name": "stdout",
     "output_type": "stream",
     "text": [
      "Validation error:1 validation error for SimpleValidation1\n",
      "categories\n",
      "  Field required [type=missing, input_value={'category': 'Sport', 're...sporting achievements.\"}, input_type=dict]\n",
      "    For further information visit https://errors.pydantic.dev/2.11/v/missing \n"
     ]
    }
   ],
   "source": [
    "class SimpleValidation1(BaseModel):\n",
    "    categories: str = Field(description=\"The classifation topic\") #Changed the key\n",
    "    reason: str = Field(description=\"Short reason for the topic choice.\")\n",
    "\n",
    "try:\n",
    "    #Validate JSON data\n",
    "    validate_jon = SimpleValidation1.model_validate(parsed_json)\n",
    "    print(\"Validation correct\")\n",
    "except ValidationError as e:\n",
    "    print(f\"Validation error:{e} \")"
   ]
  }
 ],
 "metadata": {
  "kernelspec": {
   "display_name": ".venv",
   "language": "python",
   "name": "python3"
  },
  "language_info": {
   "codemirror_mode": {
    "name": "ipython",
    "version": 3
   },
   "file_extension": ".py",
   "mimetype": "text/x-python",
   "name": "python",
   "nbconvert_exporter": "python",
   "pygments_lexer": "ipython3",
   "version": "3.12.3"
  }
 },
 "nbformat": 4,
 "nbformat_minor": 5
}
