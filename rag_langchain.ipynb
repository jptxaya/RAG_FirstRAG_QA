{
 "cells": [
  {
   "cell_type": "markdown",
   "id": "7acb1ffd",
   "metadata": {},
   "source": [
    "# Rag with LangChain\n",
    "\n"
   ]
  },
  {
   "cell_type": "markdown",
   "id": "6c7e5260",
   "metadata": {},
   "source": [
    "Using a example pdf, we are going to store in a vectorestore  and use it on the RAG"
   ]
  },
  {
   "cell_type": "markdown",
   "id": "c6d5df4a",
   "metadata": {},
   "source": [
    "## Creating the infraestructure\n",
    "\n",
    "- Getting the pdf\n",
    "- Storing in a vectorstore\n",
    "- Generating a retriever\n",
    "\n"
   ]
  },
  {
   "cell_type": "code",
   "execution_count": 23,
   "id": "fc530f82",
   "metadata": {},
   "outputs": [],
   "source": [
    "from langchain.document_loaders import PyPDFLoader\n"
   ]
  },
  {
   "cell_type": "code",
   "execution_count": 24,
   "id": "e0ab8190",
   "metadata": {},
   "outputs": [],
   "source": [
    "#Get the pdf\n",
    "pdf_file_path = \"my_pdf.pdf\"\n",
    "\n",
    "pdf_file = PyPDFLoader(pdf_file_path)\n",
    "docs = pdf_file.load()\n",
    "\n"
   ]
  },
  {
   "cell_type": "code",
   "execution_count": 25,
   "id": "6a3e53d2",
   "metadata": {},
   "outputs": [
    {
     "data": {
      "text/plain": [
       "[Document(metadata={'producer': 'macOS Version 15.5 (Build 24F74) Quartz PDFContext', 'creator': 'Preview', 'creationdate': \"D:20250804162618Z00'00'\", 'title': 'C1_PhrasalVerbs', 'moddate': \"D:20250804162618Z00'00'\", 'source': 'my_pdf.pdf', 'total_pages': 6, 'page': 0, 'page_label': '1'}, page_content=''),\n",
       " Document(metadata={'producer': 'macOS Version 15.5 (Build 24F74) Quartz PDFContext', 'creator': 'Preview', 'creationdate': \"D:20250804162618Z00'00'\", 'title': 'C1_PhrasalVerbs', 'moddate': \"D:20250804162618Z00'00'\", 'source': 'my_pdf.pdf', 'total_pages': 6, 'page': 1, 'page_label': '2'}, page_content=''),\n",
       " Document(metadata={'producer': 'macOS Version 15.5 (Build 24F74) Quartz PDFContext', 'creator': 'Preview', 'creationdate': \"D:20250804162618Z00'00'\", 'title': 'C1_PhrasalVerbs', 'moddate': \"D:20250804162618Z00'00'\", 'source': 'my_pdf.pdf', 'total_pages': 6, 'page': 2, 'page_label': '3'}, page_content=''),\n",
       " Document(metadata={'producer': 'macOS Version 15.5 (Build 24F74) Quartz PDFContext', 'creator': 'Preview', 'creationdate': \"D:20250804162618Z00'00'\", 'title': 'C1_PhrasalVerbs', 'moddate': \"D:20250804162618Z00'00'\", 'source': 'my_pdf.pdf', 'total_pages': 6, 'page': 3, 'page_label': '4'}, page_content=''),\n",
       " Document(metadata={'producer': 'macOS Version 15.5 (Build 24F74) Quartz PDFContext', 'creator': 'Preview', 'creationdate': \"D:20250804162618Z00'00'\", 'title': 'C1_PhrasalVerbs', 'moddate': \"D:20250804162618Z00'00'\", 'source': 'my_pdf.pdf', 'total_pages': 6, 'page': 4, 'page_label': '5'}, page_content=''),\n",
       " Document(metadata={'producer': 'macOS Version 15.5 (Build 24F74) Quartz PDFContext', 'creator': 'Preview', 'creationdate': \"D:20250804162618Z00'00'\", 'title': 'C1_PhrasalVerbs', 'moddate': \"D:20250804162618Z00'00'\", 'source': 'my_pdf.pdf', 'total_pages': 6, 'page': 5, 'page_label': '6'}, page_content='')]"
      ]
     },
     "execution_count": 25,
     "metadata": {},
     "output_type": "execute_result"
    }
   ],
   "source": [
    "docs"
   ]
  },
  {
   "cell_type": "code",
   "execution_count": 26,
   "id": "c733830c",
   "metadata": {},
   "outputs": [
    {
     "data": {
      "text/plain": [
       "0"
      ]
     },
     "execution_count": 26,
     "metadata": {},
     "output_type": "execute_result"
    }
   ],
   "source": [
    "len(docs[0].page_content)"
   ]
  },
  {
   "cell_type": "code",
   "execution_count": 27,
   "id": "4a66b12e",
   "metadata": {},
   "outputs": [],
   "source": [
    "#The pdf contains images, we are going to use UnstructuredLoader\n",
    "from langchain_unstructured import UnstructuredLoader"
   ]
  },
  {
   "cell_type": "markdown",
   "id": "e903c3ca",
   "metadata": {},
   "source": [
    "\n",
    "To use Unstructured parsing LOCALLY, we need to next dependencies:\n",
    "\n",
    "Local parsing\n",
    "\n",
    "Parsing locally requires the installation of additional dependencies.\n",
    "\n",
    "Poppler (PDF analysis)\n",
    "\n",
    "Linux: apt-get install poppler-utils\n",
    "Mac: brew install poppler\n",
    "Windows: https://github.com/oschwartz10612/poppler-windows\n",
    "Tesseract (OCR)\n",
    "\n",
    "Linux: apt-get install tesseract-ocr\n",
    "Mac: brew install tesseract\n",
    "Windows: https://github.com/UB-Mannheim/tesseract/wiki#tesseract-installer-for-windows\n",
    "We will also need to install the unstructured PDF extras:\n",
    "\n",
    "%pip install -qU \"unstructured[pdf]\""
   ]
  },
  {
   "cell_type": "code",
   "execution_count": 28,
   "id": "29ec8844",
   "metadata": {},
   "outputs": [
    {
     "name": "stderr",
     "output_type": "stream",
     "text": [
      "INFO: Reading PDF for file: my_pdf.pdf ...\n"
     ]
    },
    {
     "name": "stdout",
     "output_type": "stream",
     "text": [
      "Warning: No languages specified, defaulting to English.\n"
     ]
    }
   ],
   "source": [
    "loader = UnstructuredLoader(pdf_file_path,\n",
    "                            strategy=\"hi_res\")\n",
    "\n",
    "docs = []\n",
    "for doc in loader.lazy_load():\n",
    "    docs.append(doc)"
   ]
  },
  {
   "cell_type": "code",
   "execution_count": 29,
   "id": "06880f39",
   "metadata": {},
   "outputs": [
    {
     "data": {
      "text/plain": [
       "321"
      ]
     },
     "execution_count": 29,
     "metadata": {},
     "output_type": "execute_result"
    }
   ],
   "source": [
    "len(docs)"
   ]
  },
  {
   "cell_type": "code",
   "execution_count": 30,
   "id": "391b3d5c",
   "metadata": {},
   "outputs": [
    {
     "data": {
      "text/plain": [
       "Document(metadata={'source': 'my_pdf.pdf', 'detection_class_prob': 0.904830276966095, 'coordinates': {'points': ((np.float64(189.44822692871094), np.float64(800.351806640625)), (np.float64(189.44822692871094), np.float64(879.6382446289062)), (np.float64(789.1942138671875), np.float64(879.6382446289062)), (np.float64(789.1942138671875), np.float64(800.351806640625))), 'system': 'PixelSpace', 'layout_width': 1654, 'layout_height': 2339}, 'last_modified': '2025-08-04T18:26:43', 'filetype': 'application/pdf', 'languages': ['eng'], 'page_number': 1, 'filename': 'my_pdf.pdf', 'parent_id': '10650cd204a0fc51817b1b0e7df3b632', 'category': 'ListItem', 'element_id': 'a81433a9a85bcad29001b67ab3beac2b'}, page_content=\"back up give support to someone by telling other people that you agree with them backup (n): | didn’t believe Simon's story until Janice backed him up.\")"
      ]
     },
     "execution_count": 30,
     "metadata": {},
     "output_type": "execute_result"
    }
   ],
   "source": [
    "docs[6]"
   ]
  },
  {
   "cell_type": "markdown",
   "id": "c98548c5",
   "metadata": {},
   "source": [
    "It's not necessary to chunk the content, is not to large, otherwise we should do it in smaller chunks"
   ]
  },
  {
   "cell_type": "code",
   "execution_count": 31,
   "id": "00dc232e",
   "metadata": {},
   "outputs": [],
   "source": [
    "#Using Ollama_embeding to generate the embedings\n",
    "\n",
    "from langchain_ollama import OllamaEmbeddings, ChatOllama\n",
    "\n",
    "embeddings = OllamaEmbeddings(model=\"nomic-embed-text\")"
   ]
  },
  {
   "cell_type": "code",
   "execution_count": 35,
   "id": "4bcda9f6",
   "metadata": {},
   "outputs": [
    {
     "name": "stderr",
     "output_type": "stream",
     "text": [
      "INFO: HTTP Request: POST http://127.0.0.1:11434/api/embed \"HTTP/1.1 200 OK\"\n"
     ]
    }
   ],
   "source": [
    "#Storing the embedings in langchain_vectorstore \"Chroma\"\n",
    "#need pip install chromadb\n",
    "from langchain_community.vectorstores import Chroma\n",
    "\n",
    "from langchain_community.vectorstores.utils import filter_complex_metadata\n",
    "#documents has complex data, coordinates, where are going to use filter_complex_metadata to solve this issue, to quit this key from metadata\n",
    "\n",
    "vectorstore = Chroma.from_documents(\n",
    "    documents=filter_complex_metadata(docs),\n",
    "    embedding= embeddings,\n",
    "    persist_directory=\"chroma_store\"\n",
    ")"
   ]
  },
  {
   "cell_type": "code",
   "execution_count": 36,
   "id": "0218d705",
   "metadata": {},
   "outputs": [],
   "source": [
    "#Creating a retriever to vectorstore\n",
    "retriever = vectorstore.as_retriever() #We are going to use default values\n"
   ]
  },
  {
   "cell_type": "code",
   "execution_count": 37,
   "id": "50637b98",
   "metadata": {},
   "outputs": [
    {
     "name": "stderr",
     "output_type": "stream",
     "text": [
      "INFO: HTTP Request: POST http://127.0.0.1:11434/api/embed \"HTTP/1.1 200 OK\"\n"
     ]
    },
    {
     "data": {
      "text/plain": [
       "[Document(metadata={'last_modified': '2025-08-04T18:26:43', 'filename': 'my_pdf.pdf', 'element_id': 'c09c9598bc80770db8cb578dea5fc825', 'parent_id': '10650cd204a0fc51817b1b0e7df3b632', 'category': 'ListItem', 'source': 'my_pdf.pdf', 'filetype': 'application/pdf', 'detection_class_prob': 0.8957679867744446, 'page_number': 1}, page_content='back up make a copy of information on your computer backup (n): Make sure you back al! your data up, just in case you get a virus.'),\n",
       " Document(metadata={'source': 'my_pdf.pdf', 'category': 'ListItem', 'element_id': '2be2ccb13a20020b7ebc5248be69f183', 'filename': 'my_pdf.pdf', 'detection_class_prob': 0.8740919828414917, 'parent_id': '10650cd204a0fc51817b1b0e7df3b632', 'filetype': 'application/pdf', 'last_modified': '2025-08-04T18:26:43', 'page_number': 1}, page_content='brush up (on) practise and improve your skills or knowledge of something: | took a class to brush up (on) my German before the trip.'),\n",
       " Document(metadata={'element_id': 'a81433a9a85bcad29001b67ab3beac2b', 'last_modified': '2025-08-04T18:26:43', 'filename': 'my_pdf.pdf', 'page_number': 1, 'source': 'my_pdf.pdf', 'filetype': 'application/pdf', 'detection_class_prob': 0.904830276966095, 'parent_id': '10650cd204a0fc51817b1b0e7df3b632', 'category': 'ListItem'}, page_content=\"back up give support to someone by telling other people that you agree with them backup (n): | didn’t believe Simon's story until Janice backed him up.\"),\n",
       " Document(metadata={'source': 'my_pdf.pdf', 'last_modified': '2025-08-04T18:26:43', 'category': 'ListItem', 'detection_class_prob': 0.7918246388435364, 'parent_id': '26f69112e18944ee0c0a05f2c3cb5108', 'filetype': 'application/pdf', 'element_id': '0e19409815665846323f9432ae0106ea', 'filename': 'my_pdf.pdf', 'page_number': 5}, page_content='slip up make a careless mistake stip-up (n): We can’t afford to slip up this time,')]"
      ]
     },
     "execution_count": 37,
     "metadata": {},
     "output_type": "execute_result"
    }
   ],
   "source": [
    "question = \"Meaning of back up verb\"\n",
    "\n",
    "retriever.invoke(question)"
   ]
  },
  {
   "cell_type": "markdown",
   "id": "ab6732a1",
   "metadata": {},
   "source": [
    "## Generating the RAG"
   ]
  },
  {
   "cell_type": "code",
   "execution_count": 41,
   "id": "d31d2b95",
   "metadata": {},
   "outputs": [],
   "source": [
    "ollama_model = \"qwen2.5:7b\"\n",
    "\n",
    "llm = ChatOllama(model=ollama_model)"
   ]
  },
  {
   "cell_type": "code",
   "execution_count": 42,
   "id": "7a954a9b",
   "metadata": {},
   "outputs": [],
   "source": [
    "from langchain_core.prompts import PromptTemplate\n",
    "\n",
    "#We are going to define the prompt template for our RAG\n",
    "template=\"\"\"\n",
    "You are an assistant for question-answering tasks.\n",
    "Use the following pieces of retrieved context to find the examples of the requested phrasal verbs.\n",
    "If you don't know the answer, respond as \"I don't know\"\n",
    "\n",
    "Question: Examples to understand the meaning of the phrasal verb {question}\n",
    "\n",
    "Context: {context}\n",
    "\n",
    "Answer:\"\"\"\n",
    "\n",
    "prompt = PromptTemplate(template=template)"
   ]
  },
  {
   "cell_type": "code",
   "execution_count": 43,
   "id": "68ef71fb",
   "metadata": {},
   "outputs": [],
   "source": [
    "#Creating the pipeline\n",
    "from langchain_core.runnables import RunnablePassthrough\n",
    "from langchain_core.output_parsers import StrOutputParser\n",
    "\n",
    "def format_docs(docs):\n",
    "    return \"\\n\\n\".join(doc.page_content for doc in docs)\n",
    "#To format the docs retrievers\n",
    "\n",
    "#Is a pipeline, like Linu\n",
    "rag_chain = (\n",
    "    {\"context\": retriever | format_docs, \"question\":RunnablePassthrough()} | prompt | llm | StrOutputParser()\n",
    ")\n"
   ]
  },
  {
   "cell_type": "code",
   "execution_count": 45,
   "id": "f3e077cd",
   "metadata": {},
   "outputs": [
    {
     "name": "stderr",
     "output_type": "stream",
     "text": [
      "INFO: HTTP Request: POST http://127.0.0.1:11434/api/embed \"HTTP/1.1 200 OK\"\n",
      "INFO: HTTP Request: POST http://127.0.0.1:11434/api/chat \"HTTP/1.1 200 OK\"\n"
     ]
    }
   ],
   "source": [
    "query=\"back up\"\n",
    "response = rag_chain.invoke(query)"
   ]
  },
  {
   "cell_type": "code",
   "execution_count": 46,
   "id": "55cfb8ee",
   "metadata": {},
   "outputs": [
    {
     "name": "stdout",
     "output_type": "stream",
     "text": [
      "Here are the examples of the phrasal verb \"back up\" from the context provided:\n",
      "\n",
      "1. **Make a copy of information on your computer**:\n",
      "   - Context example: \"backup (n): Make sure you back all your data up, just in case you get a virus.\"\n",
      "\n",
      "2. **Give support to someone by telling other people that you agree with them**:\n",
      "   - Context example: \"backup (n): I didn’t believe Simon's story until Janice backed him up.\"\n"
     ]
    }
   ],
   "source": [
    "print(response)"
   ]
  }
 ],
 "metadata": {
  "kernelspec": {
   "display_name": ".venv",
   "language": "python",
   "name": "python3"
  },
  "language_info": {
   "codemirror_mode": {
    "name": "ipython",
    "version": 3
   },
   "file_extension": ".py",
   "mimetype": "text/x-python",
   "name": "python",
   "nbconvert_exporter": "python",
   "pygments_lexer": "ipython3",
   "version": "3.12.3"
  }
 },
 "nbformat": 4,
 "nbformat_minor": 5
}
