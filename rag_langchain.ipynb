{
 "cells": [
  {
   "cell_type": "markdown",
   "id": "7acb1ffd",
   "metadata": {},
   "source": [
    "# Rag with LangChain\n",
    "\n"
   ]
  },
  {
   "cell_type": "markdown",
   "id": "6c7e5260",
   "metadata": {},
   "source": [
    "Using a example pdf, we are going to store in a vectorestore  and use it on the RAG"
   ]
  },
  {
   "cell_type": "markdown",
   "id": "c6d5df4a",
   "metadata": {},
   "source": [
    "## Creating the infraestructure\n",
    "\n",
    "- Getting the pdf\n",
    "- Storing in a vectorstore\n",
    "- Generating a retriever\n",
    "\n"
   ]
  },
  {
   "cell_type": "code",
   "execution_count": 49,
   "id": "fc530f82",
   "metadata": {},
   "outputs": [],
   "source": [
    "from langchain.document_loaders import PyPDFLoader\n"
   ]
  },
  {
   "cell_type": "code",
   "execution_count": 50,
   "id": "e0ab8190",
   "metadata": {},
   "outputs": [],
   "source": [
    "#Get the pdf\n",
    "pdf_file_path = \"my_pdf.pdf\"\n",
    "\n",
    "pdf_file = PyPDFLoader(pdf_file_path)\n",
    "docs = pdf_file.load()\n",
    "\n"
   ]
  },
  {
   "cell_type": "code",
   "execution_count": 51,
   "id": "6a3e53d2",
   "metadata": {},
   "outputs": [
    {
     "data": {
      "text/plain": [
       "[Document(metadata={'producer': 'macOS Version 15.5 (Build 24F74) Quartz PDFContext', 'creator': 'Preview', 'creationdate': \"D:20250804162618Z00'00'\", 'title': 'C1_PhrasalVerbs', 'moddate': \"D:20250804162618Z00'00'\", 'source': 'my_pdf.pdf', 'total_pages': 6, 'page': 0, 'page_label': '1'}, page_content=''),\n",
       " Document(metadata={'producer': 'macOS Version 15.5 (Build 24F74) Quartz PDFContext', 'creator': 'Preview', 'creationdate': \"D:20250804162618Z00'00'\", 'title': 'C1_PhrasalVerbs', 'moddate': \"D:20250804162618Z00'00'\", 'source': 'my_pdf.pdf', 'total_pages': 6, 'page': 1, 'page_label': '2'}, page_content=''),\n",
       " Document(metadata={'producer': 'macOS Version 15.5 (Build 24F74) Quartz PDFContext', 'creator': 'Preview', 'creationdate': \"D:20250804162618Z00'00'\", 'title': 'C1_PhrasalVerbs', 'moddate': \"D:20250804162618Z00'00'\", 'source': 'my_pdf.pdf', 'total_pages': 6, 'page': 2, 'page_label': '3'}, page_content=''),\n",
       " Document(metadata={'producer': 'macOS Version 15.5 (Build 24F74) Quartz PDFContext', 'creator': 'Preview', 'creationdate': \"D:20250804162618Z00'00'\", 'title': 'C1_PhrasalVerbs', 'moddate': \"D:20250804162618Z00'00'\", 'source': 'my_pdf.pdf', 'total_pages': 6, 'page': 3, 'page_label': '4'}, page_content=''),\n",
       " Document(metadata={'producer': 'macOS Version 15.5 (Build 24F74) Quartz PDFContext', 'creator': 'Preview', 'creationdate': \"D:20250804162618Z00'00'\", 'title': 'C1_PhrasalVerbs', 'moddate': \"D:20250804162618Z00'00'\", 'source': 'my_pdf.pdf', 'total_pages': 6, 'page': 4, 'page_label': '5'}, page_content=''),\n",
       " Document(metadata={'producer': 'macOS Version 15.5 (Build 24F74) Quartz PDFContext', 'creator': 'Preview', 'creationdate': \"D:20250804162618Z00'00'\", 'title': 'C1_PhrasalVerbs', 'moddate': \"D:20250804162618Z00'00'\", 'source': 'my_pdf.pdf', 'total_pages': 6, 'page': 5, 'page_label': '6'}, page_content='')]"
      ]
     },
     "execution_count": 51,
     "metadata": {},
     "output_type": "execute_result"
    }
   ],
   "source": [
    "docs"
   ]
  },
  {
   "cell_type": "code",
   "execution_count": 52,
   "id": "c733830c",
   "metadata": {},
   "outputs": [
    {
     "data": {
      "text/plain": [
       "0"
      ]
     },
     "execution_count": 52,
     "metadata": {},
     "output_type": "execute_result"
    }
   ],
   "source": [
    "len(docs[0].page_content)"
   ]
  },
  {
   "cell_type": "code",
   "execution_count": 53,
   "id": "4a66b12e",
   "metadata": {},
   "outputs": [],
   "source": [
    "#The pdf contains images, we are going to use UnstructuredLoader\n",
    "from langchain_unstructured import UnstructuredLoader"
   ]
  },
  {
   "cell_type": "markdown",
   "id": "e903c3ca",
   "metadata": {},
   "source": [
    "\n",
    "To use Unstructured parsing LOCALLY, we need to next dependencies:\n",
    "\n",
    "Local parsing\n",
    "\n",
    "Parsing locally requires the installation of additional dependencies.\n",
    "\n",
    "Poppler (PDF analysis)\n",
    "\n",
    "Linux: apt-get install poppler-utils\n",
    "Mac: brew install poppler\n",
    "Windows: https://github.com/oschwartz10612/poppler-windows\n",
    "Tesseract (OCR)\n",
    "\n",
    "Linux: apt-get install tesseract-ocr\n",
    "Mac: brew install tesseract\n",
    "Windows: https://github.com/UB-Mannheim/tesseract/wiki#tesseract-installer-for-windows\n",
    "We will also need to install the unstructured PDF extras:\n",
    "\n",
    "%pip install -qU \"unstructured[pdf]\""
   ]
  },
  {
   "cell_type": "code",
   "execution_count": 54,
   "id": "29ec8844",
   "metadata": {},
   "outputs": [
    {
     "name": "stderr",
     "output_type": "stream",
     "text": [
      "INFO: Reading PDF for file: my_pdf.pdf ...\n"
     ]
    },
    {
     "name": "stdout",
     "output_type": "stream",
     "text": [
      "Warning: No languages specified, defaulting to English.\n"
     ]
    }
   ],
   "source": [
    "loader = UnstructuredLoader(pdf_file_path,\n",
    "                            strategy=\"hi_res\")\n",
    "\n",
    "docs = []\n",
    "for doc in loader.lazy_load():\n",
    "    docs.append(doc)"
   ]
  },
  {
   "cell_type": "code",
   "execution_count": 55,
   "id": "06880f39",
   "metadata": {},
   "outputs": [
    {
     "data": {
      "text/plain": [
       "321"
      ]
     },
     "execution_count": 55,
     "metadata": {},
     "output_type": "execute_result"
    }
   ],
   "source": [
    "len(docs)"
   ]
  },
  {
   "cell_type": "code",
   "execution_count": 56,
   "id": "391b3d5c",
   "metadata": {},
   "outputs": [
    {
     "data": {
      "text/plain": [
       "Document(metadata={'source': 'my_pdf.pdf', 'detection_class_prob': 0.904830276966095, 'coordinates': {'points': ((np.float64(189.44822692871094), np.float64(800.351806640625)), (np.float64(189.44822692871094), np.float64(879.6382446289062)), (np.float64(789.1942138671875), np.float64(879.6382446289062)), (np.float64(789.1942138671875), np.float64(800.351806640625))), 'system': 'PixelSpace', 'layout_width': 1654, 'layout_height': 2339}, 'last_modified': '2025-08-04T18:26:43', 'filetype': 'application/pdf', 'languages': ['eng'], 'page_number': 1, 'filename': 'my_pdf.pdf', 'parent_id': '10650cd204a0fc51817b1b0e7df3b632', 'category': 'ListItem', 'element_id': 'a81433a9a85bcad29001b67ab3beac2b'}, page_content=\"back up give support to someone by telling other people that you agree with them backup (n): | didn’t believe Simon's story until Janice backed him up.\")"
      ]
     },
     "execution_count": 56,
     "metadata": {},
     "output_type": "execute_result"
    }
   ],
   "source": [
    "docs[6]"
   ]
  },
  {
   "cell_type": "markdown",
   "id": "c98548c5",
   "metadata": {},
   "source": [
    "It's not necessary to chunk the content, is not to large, otherwise we should do it in smaller chunks"
   ]
  },
  {
   "cell_type": "code",
   "execution_count": 57,
   "id": "00dc232e",
   "metadata": {},
   "outputs": [],
   "source": [
    "#Using Ollama_embeding to generate the embedings\n",
    "\n",
    "from langchain_ollama import OllamaEmbeddings, ChatOllama\n",
    "\n",
    "embeddings = OllamaEmbeddings(model=\"nomic-embed-text\")"
   ]
  },
  {
   "cell_type": "code",
   "execution_count": 58,
   "id": "4bcda9f6",
   "metadata": {},
   "outputs": [
    {
     "name": "stderr",
     "output_type": "stream",
     "text": [
      "INFO: HTTP Request: POST http://127.0.0.1:11434/api/embed \"HTTP/1.1 200 OK\"\n"
     ]
    }
   ],
   "source": [
    "#Storing the embedings in langchain_vectorstore \"Chroma\"\n",
    "#need pip install chromadb\n",
    "from langchain_community.vectorstores import Chroma\n",
    "\n",
    "from langchain_community.vectorstores.utils import filter_complex_metadata\n",
    "#documents has complex data, coordinates, where are going to use filter_complex_metadata to solve this issue, to quit this key from metadata\n",
    "\n",
    "vectorstore = Chroma.from_documents(\n",
    "    documents=filter_complex_metadata(docs),\n",
    "    embedding= embeddings,\n",
    "    persist_directory=\"chroma_store\"\n",
    ")"
   ]
  },
  {
   "cell_type": "code",
   "execution_count": 59,
   "id": "0218d705",
   "metadata": {},
   "outputs": [],
   "source": [
    "#Creating a retriever to vectorstore\n",
    "retriever = vectorstore.as_retriever() #We are going to use default values\n"
   ]
  },
  {
   "cell_type": "code",
   "execution_count": 60,
   "id": "50637b98",
   "metadata": {},
   "outputs": [
    {
     "name": "stderr",
     "output_type": "stream",
     "text": [
      "INFO: HTTP Request: POST http://127.0.0.1:11434/api/embed \"HTTP/1.1 200 OK\"\n"
     ]
    },
    {
     "data": {
      "text/plain": [
       "[Document(metadata={'element_id': 'c09c9598bc80770db8cb578dea5fc825', 'page_number': 1, 'filetype': 'application/pdf', 'source': 'my_pdf.pdf', 'detection_class_prob': 0.8957679867744446, 'parent_id': '10650cd204a0fc51817b1b0e7df3b632', 'last_modified': '2025-08-04T18:26:43', 'filename': 'my_pdf.pdf', 'category': 'ListItem'}, page_content='back up make a copy of information on your computer backup (n): Make sure you back al! your data up, just in case you get a virus.'),\n",
       " Document(metadata={'last_modified': '2025-08-04T18:26:43', 'page_number': 1, 'parent_id': '10650cd204a0fc51817b1b0e7df3b632', 'detection_class_prob': 0.8957679867744446, 'element_id': 'c09c9598bc80770db8cb578dea5fc825', 'category': 'ListItem', 'source': 'my_pdf.pdf', 'filename': 'my_pdf.pdf', 'filetype': 'application/pdf'}, page_content='back up make a copy of information on your computer backup (n): Make sure you back al! your data up, just in case you get a virus.'),\n",
       " Document(metadata={'element_id': 'c09c9598bc80770db8cb578dea5fc825', 'filetype': 'application/pdf', 'category': 'ListItem', 'detection_class_prob': 0.8957679867744446, 'last_modified': '2025-08-04T18:26:43', 'page_number': 1, 'filename': 'my_pdf.pdf', 'parent_id': '10650cd204a0fc51817b1b0e7df3b632', 'source': 'my_pdf.pdf'}, page_content='back up make a copy of information on your computer backup (n): Make sure you back al! your data up, just in case you get a virus.'),\n",
       " Document(metadata={'filetype': 'application/pdf', 'element_id': '2be2ccb13a20020b7ebc5248be69f183', 'filename': 'my_pdf.pdf', 'category': 'ListItem', 'parent_id': '10650cd204a0fc51817b1b0e7df3b632', 'page_number': 1, 'source': 'my_pdf.pdf', 'last_modified': '2025-08-04T18:26:43', 'detection_class_prob': 0.8740919828414917}, page_content='brush up (on) practise and improve your skills or knowledge of something: | took a class to brush up (on) my German before the trip.')]"
      ]
     },
     "execution_count": 60,
     "metadata": {},
     "output_type": "execute_result"
    }
   ],
   "source": [
    "question = \"Meaning of back up verb\"\n",
    "\n",
    "retriever.invoke(question)"
   ]
  },
  {
   "cell_type": "markdown",
   "id": "ab6732a1",
   "metadata": {},
   "source": [
    "## Generating the RAG"
   ]
  },
  {
   "cell_type": "code",
   "execution_count": 61,
   "id": "d31d2b95",
   "metadata": {},
   "outputs": [],
   "source": [
    "ollama_model = \"qwen2.5:7b\"\n",
    "\n",
    "llm = ChatOllama(model=ollama_model)"
   ]
  },
  {
   "cell_type": "code",
   "execution_count": 62,
   "id": "7a954a9b",
   "metadata": {},
   "outputs": [],
   "source": [
    "from langchain_core.prompts import PromptTemplate\n",
    "\n",
    "#We are going to define the prompt template for our RAG\n",
    "template=\"\"\"\n",
    "You are an assistant for question-answering tasks.\n",
    "Use the following pieces of retrieved context to find the examples of the requested phrasal verbs.\n",
    "If you don't know the answer, respond as \"I don't know\"\n",
    "\n",
    "Question: Examples to understand the meaning of the phrasal verb {question}\n",
    "\n",
    "Context: {context}\n",
    "\n",
    "Answer:\"\"\"\n",
    "\n",
    "prompt = PromptTemplate(template=template)"
   ]
  },
  {
   "cell_type": "code",
   "execution_count": 63,
   "id": "68ef71fb",
   "metadata": {},
   "outputs": [],
   "source": [
    "#Creating the pipeline\n",
    "from langchain_core.runnables import RunnablePassthrough\n",
    "from langchain_core.output_parsers import StrOutputParser\n",
    "\n",
    "def format_docs(docs):\n",
    "    return \"\\n\\n\".join(doc.page_content for doc in docs)\n",
    "#To format the docs retrievers\n",
    "\n",
    "#Is a pipeline, like Linu\n",
    "rag_chain = (\n",
    "    {\"context\": retriever | format_docs, \"question\":RunnablePassthrough()} | prompt | llm | StrOutputParser()\n",
    ")\n"
   ]
  },
  {
   "cell_type": "code",
   "execution_count": 64,
   "id": "f3e077cd",
   "metadata": {},
   "outputs": [
    {
     "name": "stderr",
     "output_type": "stream",
     "text": [
      "INFO: HTTP Request: POST http://127.0.0.1:11434/api/embed \"HTTP/1.1 200 OK\"\n",
      "INFO: HTTP Request: POST http://127.0.0.1:11434/api/chat \"HTTP/1.1 200 OK\"\n"
     ]
    }
   ],
   "source": [
    "query=\"back up\"\n",
    "response = rag_chain.invoke(query)"
   ]
  },
  {
   "cell_type": "code",
   "execution_count": 65,
   "id": "55cfb8ee",
   "metadata": {},
   "outputs": [
    {
     "name": "stdout",
     "output_type": "stream",
     "text": [
      "Based on the context provided, here are examples of the phrasal verb \"back up\":\n",
      "\n",
      "1. **Verb form:** To make a copy of information on your computer.\n",
      "   - Example: Make sure you back all your data up, just in case you get a virus.\n",
      "\n",
      "2. **Verb form:** To give support to someone by telling other people that you agree with them.\n",
      "   - Example: I didn’t believe Simon's story until Janice backed him up.\n"
     ]
    }
   ],
   "source": [
    "print(response)"
   ]
  },
  {
   "cell_type": "code",
   "execution_count": 66,
   "id": "73f84ee4",
   "metadata": {},
   "outputs": [
    {
     "name": "stderr",
     "output_type": "stream",
     "text": [
      "INFO: HTTP Request: POST http://127.0.0.1:11434/api/embed \"HTTP/1.1 200 OK\"\n",
      "INFO: HTTP Request: POST http://127.0.0.1:11434/api/chat \"HTTP/1.1 200 OK\"\n"
     ]
    }
   ],
   "source": [
    "query=\"fade away\"\n",
    "response = rag_chain.invoke(query)"
   ]
  },
  {
   "cell_type": "code",
   "execution_count": 67,
   "id": "ac77cc9c",
   "metadata": {},
   "outputs": [
    {
     "name": "stdout",
     "output_type": "stream",
     "text": [
      "Sure, here are examples that illustrate the meaning of the phrasal verb \"fade away\":\n",
      "\n",
      "1. **To my amazement, the letters on the page slowly faded away.**\n",
      "2. **The sound of the music began to fade away as the performance ended.**\n",
      "\n",
      "These examples demonstrate how something gradually disappears or diminishes over time.\n"
     ]
    }
   ],
   "source": [
    "print(response)"
   ]
  },
  {
   "cell_type": "code",
   "execution_count": 68,
   "id": "468ae424",
   "metadata": {},
   "outputs": [
    {
     "name": "stderr",
     "output_type": "stream",
     "text": [
      "INFO: HTTP Request: POST http://127.0.0.1:11434/api/embed \"HTTP/1.1 200 OK\"\n",
      "INFO: HTTP Request: POST http://127.0.0.1:11434/api/chat \"HTTP/1.1 200 OK\"\n"
     ]
    },
    {
     "name": "stdout",
     "output_type": "stream",
     "text": [
      "I don't know\n",
      "\n",
      "The provided context does not contain any examples of the phrasal verb \"far away.\" The context includes instances of \"meet up\" and \"spread out,\" but not \"far away.\" If you need examples for \"far away,\" please let me know, and I can provide some.\n"
     ]
    }
   ],
   "source": [
    "query=\"far away\"\n",
    "response = rag_chain.invoke(query)\n",
    "print(response)"
   ]
  },
  {
   "cell_type": "markdown",
   "id": "d5e5e092",
   "metadata": {},
   "source": [
    "# RAG With LangGraph"
   ]
  },
  {
   "attachments": {
    "image.png": {
     "image/png": "[encoded data removed]"
    }
   },
   "cell_type": "markdown",
   "id": "951d774c",
   "metadata": {},
   "source": [
    "![image.png](attachment:image.png)"
   ]
  },
  {
   "cell_type": "code",
   "execution_count": 69,
   "id": "0cad7714",
   "metadata": {},
   "outputs": [],
   "source": [
    "#Defining the tools\n",
    "from langchain.tools import Tool\n",
    "from langchain_community.tools import DuckDuckGoSearchRun\n",
    "\n",
    "rag_tool = Tool(\n",
    "    name=\"PharsalVerbsRetriever\",\n",
    "    func=rag_chain.invoke,\n",
    "    description=\"Usefull for get definition and examples of English phrasal verbs provided in PDF document\"\n",
    ")\n",
    "\n",
    "search_tool = Tool(\n",
    "    name=\"DuckDuckSearch\",\n",
    "    func=DuckDuckGoSearchRun().invoke,\n",
    "    description=\"Usefull for search other content or information  in the Web, not found in the document\"\n",
    ")\n",
    "\n",
    "tools = [rag_tool,search_tool]\n",
    "\n",
    "llm_with_tools = llm.bind_tools(tools)"
   ]
  },
  {
   "cell_type": "code",
   "execution_count": 70,
   "id": "a06c8faa",
   "metadata": {},
   "outputs": [],
   "source": [
    "from langchain_core.messages import BaseMessage, AIMessage, ToolMessage\n",
    "from langgraph.graph import StateGraph, END\n",
    "from typing import TypedDict, Annotated, Sequence\n",
    "import operator\n",
    "\n",
    "# Define the state for our graph\n",
    "class AgentState(TypedDict):\n",
    "    messages: Annotated[Sequence[BaseMessage], operator.add]"
   ]
  },
  {
   "cell_type": "code",
   "execution_count": 71,
   "id": "40f9e734",
   "metadata": {},
   "outputs": [],
   "source": [
    "from langchain_core.messages import HumanMessage, SystemMessage\n",
    "\n",
    "def assistant(state: AgentState):\n",
    "    tool_descriptions = []\n",
    "    for tool in tools:\n",
    "        # Basic formatting, might need refinement depending on how you want to present it\n",
    "        tool_descriptions.append(f\"{tool.name}: {tool.description}\")\n",
    "\n",
    "    textual_description_of_tool = \"\\n\".join(tool_descriptions)\n",
    "\n",
    "    # Construct the system message using the generated tool descriptions\n",
    "    sys_msg_content = (\n",
    "        f\"You are a helpful assistant. You have access to the following tools:\\n\"\n",
    "        f\"{textual_description_of_tool}\\n\\n\"\n",
    "        f\"Please respond to the user's request.\"\n",
    "    )\n",
    "    sys_msg = SystemMessage(content=sys_msg_content)\n",
    "\n",
    "    return {\n",
    "            \"messages\": [llm_with_tools.invoke([sys_msg] + state[\"messages\"])],\n",
    "    }"
   ]
  },
  {
   "cell_type": "code",
   "execution_count": 72,
   "id": "793a429a",
   "metadata": {},
   "outputs": [
    {
     "data": {
      "text/plain": [
       "<langgraph.graph.state.StateGraph at 0x33b6392b0>"
      ]
     },
     "execution_count": 72,
     "metadata": {},
     "output_type": "execute_result"
    }
   ],
   "source": [
    "from langgraph.graph import START, END\n",
    "from langgraph.prebuilt import tools_condition\n",
    "from langgraph.prebuilt import ToolNode\n",
    "\n",
    "# Graph builder\n",
    "builder = StateGraph(AgentState)\n",
    "\n",
    "builder.add_node(\n",
    "    \"assistant\",\n",
    "    assistant,\n",
    ")\n",
    "\n",
    "builder.add_node(\n",
    "    \"tools\", ToolNode(tools)\n",
    ")\n",
    "\n",
    "builder.add_edge(START, \"assistant\")\n",
    "builder.add_conditional_edges(\n",
    "    \"assistant\",\n",
    "    tools_condition,\n",
    ")\n",
    "builder.add_edge(\"tools\", \"assistant\")"
   ]
  },
  {
   "cell_type": "code",
   "execution_count": 73,
   "id": "db3a2dea",
   "metadata": {},
   "outputs": [],
   "source": [
    "react_graph = builder.compile()"
   ]
  },
  {
   "cell_type": "code",
   "execution_count": 74,
   "id": "efe5cfb8",
   "metadata": {},
   "outputs": [
    {
     "data": {
      "image/png": "[encoded data removed]",
      "text/plain": [
       "<langgraph.graph.state.CompiledStateGraph object at 0x33b63b5f0>"
      ]
     },
     "execution_count": 74,
     "metadata": {},
     "output_type": "execute_result"
    }
   ],
   "source": [
    "react_graph"
   ]
  },
  {
   "cell_type": "code",
   "execution_count": null,
   "id": "5c189d75",
   "metadata": {},
   "outputs": [
    {
     "name": "stderr",
     "output_type": "stream",
     "text": [
      "INFO: HTTP Request: POST http://127.0.0.1:11434/api/chat \"HTTP/1.1 200 OK\"\n",
      "INFO: HTTP Request: POST http://127.0.0.1:11434/api/embed \"HTTP/1.1 200 OK\"\n",
      "INFO: HTTP Request: POST http://127.0.0.1:11434/api/chat \"HTTP/1.1 200 OK\"\n",
      "INFO: HTTP Request: POST http://127.0.0.1:11434/api/chat \"HTTP/1.1 200 OK\"\n"
     ]
    },
    {
     "name": "stdout",
     "output_type": "stream",
     "text": [
      "================================\u001b[1m Human Message \u001b[0m=================================\n",
      "\n",
      "back up\n",
      "==================================\u001b[1m Ai Message \u001b[0m==================================\n",
      "Tool Calls:\n",
      "  PharsalVerbsRetriever (50493423-31ab-434e-9d0e-6c7a043abd14)\n",
      " Call ID: 50493423-31ab-434e-9d0e-6c7a043abd14\n",
      "  Args:\n",
      "    __arg1: back up\n",
      "=================================\u001b[1m Tool Message \u001b[0m=================================\n",
      "Name: PharsalVerbsRetriever\n",
      "\n",
      "Based on the context provided, here are examples of the phrasal verb \"back up\":\n",
      "\n",
      "1. **Back up make a copy of information on your computer** - This means to create a duplicate copy of data stored in your computer, usually to prevent loss due to accidents or technical issues.\n",
      "   \n",
      "2. **backup (n): Make sure you back all your data up, just in case you get a virus.** - Here \"back up\" is used as a noun and refers to the process of creating a backup copy of data.\n",
      "\n",
      "3. **Back up give support to someone by telling other people that you agree with them** - This means to support or reinforce someone’s opinion or position, often by agreeing with or speaking on their behalf.\n",
      "   \n",
      "4. **backup (n): I didn’t believe Simon's story until Janice backed him up.** - In this context, \"backed him up\" means that Janice supported Simon’s story by agreeing with it and perhaps also telling others to agree as well.\n",
      "\n",
      "These examples illustrate the two main meanings of the phrasal verb \"back up\": making a copy of data on a computer or supporting someone by agreeing with them.\n",
      "==================================\u001b[1m Ai Message \u001b[0m==================================\n",
      "\n",
      "Based on the context provided, here are examples of the phrasal verb \"back up\":\n",
      "\n",
      "1. **Back up make a copy of information on your computer** - This means to create a duplicate copy of data stored in your computer, usually to prevent loss due to accidents or technical issues.\n",
      "   \n",
      "2. **backup (n): Make sure you back all your data up, just in case you get a virus.** - Here \"back up\" is used as a noun and refers to the process of creating a backup copy of data.\n",
      "\n",
      "3. **Back up give support to someone by telling other people that you agree with them** - This means to support or reinforce someone’s opinion or position, often by agreeing with or speaking on their behalf.\n",
      "   \n",
      "4. **backup (n): I didn’t believe Simon's story until Janice backed him up.** - In this context, \"backed him up\" means that Janice supported Simon’s story by agreeing with it and perhaps also telling others to agree as well.\n",
      "\n",
      "These examples illustrate the two main meanings of the phrasal verb \"back up\": making a copy of data on a computer or supporting someone by agreeing with them.\n"
     ]
    }
   ],
   "source": [
    "messages = [HumanMessage(content=\"back up\")]\n",
    "\n",
    "messages = react_graph.invoke({\"messages\": messages})\n",
    "\n",
    "for m in messages['messages']:\n",
    "    m.pretty_print()"
   ]
  },
  {
   "cell_type": "code",
   "execution_count": 77,
   "id": "4b2f6ed6",
   "metadata": {},
   "outputs": [
    {
     "name": "stderr",
     "output_type": "stream",
     "text": [
      "INFO: HTTP Request: POST http://127.0.0.1:11434/api/chat \"HTTP/1.1 200 OK\"\n",
      "/Users/jayarza/Developer/Projects/Resume_Projects/RAG_FirstRAG_QA/.venv/lib/python3.12/site-packages/langchain_community/utilities/duckduckgo_search.py:63: RuntimeWarning: This package (`duckduckgo_search`) has been renamed to `ddgs`! Use `pip install ddgs` instead.\n",
      "  with DDGS() as ddgs:\n",
      "INFO: response: https://www.bing.com/search?q=Oscar+winning+best+movies+of+the+last+10+years&filters=ex1%3A%22ez5_19940_20305%22 200\n",
      "INFO: response: https://www.bing.com/search?q=Oscar+winning+best+movies+of+the+last+10+years&filters=ex1%3A%22ez5_19940_20305%22&first=11&FORM=PERE 200\n",
      "INFO: HTTP Request: POST http://127.0.0.1:11434/api/chat \"HTTP/1.1 200 OK\"\n",
      "/Users/jayarza/Developer/Projects/Resume_Projects/RAG_FirstRAG_QA/.venv/lib/python3.12/site-packages/langchain_community/utilities/duckduckgo_search.py:63: RuntimeWarning: This package (`duckduckgo_search`) has been renamed to `ddgs`! Use `pip install ddgs` instead.\n",
      "  with DDGS() as ddgs:\n",
      "INFO: response: https://www.bing.com/search?q=best+picture+oscar+winners+last+20+years&filters=ex1%3A%22ez5_19940_20305%22 200\n",
      "INFO: HTTP Request: POST http://127.0.0.1:11434/api/chat \"HTTP/1.1 200 OK\"\n",
      "/Users/jayarza/Developer/Projects/Resume_Projects/RAG_FirstRAG_QA/.venv/lib/python3.12/site-packages/langchain_community/utilities/duckduckgo_search.py:63: RuntimeWarning: This package (`duckduckgo_search`) has been renamed to `ddgs`! Use `pip install ddgs` instead.\n",
      "  with DDGS() as ddgs:\n",
      "INFO: response: https://www.bing.com/search?q=best+picture+oscar+winners+past+20+years&filters=ex1%3A%22ez5_19940_20305%22 200\n",
      "INFO: HTTP Request: POST http://127.0.0.1:11434/api/chat \"HTTP/1.1 200 OK\"\n"
     ]
    },
    {
     "name": "stdout",
     "output_type": "stream",
     "text": [
      "================================\u001b[1m Human Message \u001b[0m=================================\n",
      "\n",
      "Oscar a los mejores peliculas de los ultimos 10 años\n",
      "==================================\u001b[1m Ai Message \u001b[0m==================================\n",
      "\n",
      "It seems like you're asking about Oscar-winning best movies of the last 10 years. However, I don't have direct access to real-time data or current Oscar winners. Let me use DuckDuckSearch to find this information for you.\n",
      "Tool Calls:\n",
      "  DuckDuckSearch (0f9a6fc4-a1d7-4f8f-bd62-bd6b51addf05)\n",
      " Call ID: 0f9a6fc4-a1d7-4f8f-bd62-bd6b51addf05\n",
      "  Args:\n",
      "    query: Oscar winning best movies of the last 10 years\n",
      "=================================\u001b[1m Tool Message \u001b[0m=================================\n",
      "Name: DuckDuckSearch\n",
      "\n",
      "Mar 19, 2019 · FTP站点部署好之后，可以通过多种方式访问：ftp工具、Windows资源管理器、IE浏览器三种，本文详细介 … Apr 3, 2018 · 阿里云全新升级网站 云服务器，2核2G云服务器38元火热抢购，200Mbps峰值公网带宽，快速部署。 Mar 9, 2025 · Oppenheimer, Anora, and Gladiator are among the absolute greatest Oscar Best Picture winners of the last quarter century. Apr 1, 2025 · The Oscars were first televised in 1953. Ever since, they have been the preeminent award show in film. However, Hollywood doesn't nail it every year, and some Oscar years are simply better than others when it comes to overall quality of content. Which years were best for the Academy Awards was the... Mar 2, 2025 · The following is a list of the best picture Oscar winners from the last 20 years, ahead of Sunday's 97th Academy Awards (Monday morning in Manila) in Hollywood.\n",
      "==================================\u001b[1m Ai Message \u001b[0m==================================\n",
      "\n",
      "Based on the information I found, here are some of the best Picture Oscar winners from the last 25 years:\n",
      "\n",
      "- **Oppenheimer**\n",
      "- **Anora** \n",
      "- **Gladiator**\n",
      "\n",
      "These films have been considered among the greatest by many. For a more comprehensive list, let me search for the best picture Oscar winners from the past 20 years.\n",
      "Tool Calls:\n",
      "  DuckDuckSearch (d9d6c93e-d83f-413e-9d32-01f33daf07c8)\n",
      " Call ID: d9d6c93e-d83f-413e-9d32-01f33daf07c8\n",
      "  Args:\n",
      "    query: best picture oscar winners last 20 years\n",
      "=================================\u001b[1m Tool Message \u001b[0m=================================\n",
      "Name: DuckDuckSearch\n",
      "\n",
      "No good DuckDuckGo Search Result was found\n",
      "==================================\u001b[1m Ai Message \u001b[0m==================================\n",
      "\n",
      "It seems there wasn't any direct information about the best Picture Oscar winners of the last 20 years in my previous search. Let me conduct a more targeted search to find this information for you.\n",
      "Tool Calls:\n",
      "  DuckDuckSearch (f08548d1-0671-461f-808a-30ecccdf3267)\n",
      " Call ID: f08548d1-0671-461f-808a-30ecccdf3267\n",
      "  Args:\n",
      "    query: best picture oscar winners past 20 years\n",
      "=================================\u001b[1m Tool Message \u001b[0m=================================\n",
      "Name: DuckDuckSearch\n",
      "\n",
      "No Best Picture winner has been lost, though a few such as All Quiet on the Western Front and Lawrence of Arabia … Mar 3, 2025 · Every film that has won the Oscar for best picture. From \"Wings\" to \"Anora,\" see all the winners here. Mar 3, 2025 · How well do you know the films that won the Best Picture Award at the Oscars? Think you could name most of them? Are you sure? Below is a list of all the past winners of the Best Picture award, since the start of the Academy Awards. Running from 1927 through 2021, this list includes… Apr 12, 2025 · Click through each award to see the full list of nominees and winners! 2020 Academy Awards – Best … Mar 3, 2025 · The Best Picture category is typically given out last and is thus seen as the most significant award of the program. There have been 96 winners and 611 nominees for Best Picture since the award’s inception in 1929.\n",
      "==================================\u001b[1m Ai Message \u001b[0m==================================\n",
      "\n",
      "Based on the information retrieved, here are some notable Best Picture Oscar winners from recent years:\n",
      "\n",
      "- **2020: Parasite**\n",
      "- **2019: Green Book**\n",
      "- **2018: The Shape of Water**\n",
      "- **2017: Spotlight**\n",
      "- **2016: Moonlight**\n",
      "\n",
      "For a more comprehensive list, including the best picture winners from the past 20 years, you can visit reliable sources such as the official Academy Awards website or reputable film databases. Would you like me to provide a full list of Best Picture winners since 2000?\n"
     ]
    }
   ],
   "source": [
    "messages = [HumanMessage(content=\"Oscar a los mejores peliculas de los ultimos 10 años\")]\n",
    "\n",
    "messages = react_graph.invoke({\"messages\": messages})\n",
    "\n",
    "for m in messages['messages']:\n",
    "    m.pretty_print()"
   ]
  },
  {
   "cell_type": "markdown",
   "id": "e85347f5",
   "metadata": {},
   "source": [
    "## Tracing and Evaluation with Langfuse"
   ]
  },
  {
   "cell_type": "markdown",
   "id": "5c1df1e7",
   "metadata": {},
   "source": [
    "Steps:\n",
    "\n",
    "- Install Langfuse locally in Docker"
   ]
  }
 ],
 "metadata": {
  "kernelspec": {
   "display_name": ".venv",
   "language": "python",
   "name": "python3"
  },
  "language_info": {
   "codemirror_mode": {
    "name": "ipython",
    "version": 3
   },
   "file_extension": ".py",
   "mimetype": "text/x-python",
   "name": "python",
   "nbconvert_exporter": "python",
   "pygments_lexer": "ipython3",
   "version": "3.12.3"
  }
 },
 "nbformat": 4,
 "nbformat_minor": 5
}
